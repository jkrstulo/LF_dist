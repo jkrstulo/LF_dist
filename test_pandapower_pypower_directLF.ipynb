{
 "cells": [
  {
   "cell_type": "markdown",
   "metadata": {},
   "source": [
    "# Comparison of pandapower, pypower and Direct Distribution Load Flow (DDLF) results"
   ]
  },
  {
   "cell_type": "code",
   "execution_count": 24,
   "metadata": {
    "collapsed": true
   },
   "outputs": [],
   "source": [
    "import numpy as np\n",
    "\n",
    "import pandapower as pp\n",
    "import pandapower.networks as ppnets\n",
    "import pandapower.converter as ppconv"
   ]
  },
  {
   "cell_type": "markdown",
   "metadata": {},
   "source": [
    "## pandapower"
   ]
  },
  {
   "cell_type": "code",
   "execution_count": 11,
   "metadata": {
    "collapsed": false
   },
   "outputs": [
    {
     "name": "stdout",
     "output_type": "stream",
     "text": [
      "      vm_pu  va_degree        p_kw     q_kvar\n",
      "0  1.000000   0.000000 -123.666645 -43.409193\n",
      "1  0.987595  -0.971588    0.000000   0.000000\n",
      "2  0.977858  -0.982721   30.000000  10.000000\n",
      "3  0.970535  -0.991218   30.000000  10.000000\n",
      "4  0.965642  -0.996953   30.000000  10.000000\n",
      "5  0.963192  -0.999842   30.000000  10.000000\n"
     ]
    }
   ],
   "source": [
    "# load network and run power flow\n",
    "net = ppnets.panda_four_load_branch()\n",
    "pp.runpp(net)\n",
    "print (net.res_bus)"
   ]
  },
  {
   "cell_type": "code",
   "execution_count": 6,
   "metadata": {
    "collapsed": false
   },
   "outputs": [],
   "source": [
    "ppc = ppconv.to_ppc(net)"
   ]
  },
  {
   "cell_type": "markdown",
   "metadata": {},
   "source": [
    "## pypower N-R"
   ]
  },
  {
   "cell_type": "code",
   "execution_count": 8,
   "metadata": {
    "collapsed": false
   },
   "outputs": [
    {
     "name": "stdout",
     "output_type": "stream",
     "text": [
      "PYPOWER Version 5.0.0, 29-May-2015 -- AC Power Flow (Newton)\n",
      "\n",
      "\n",
      "Newton's method power did not converge in 10 iterations.\n",
      "\n",
      "Did not converge (0.10 seconds)\n",
      "\n",
      "================================================================================\n",
      "|     System Summary                                                           |\n",
      "================================================================================\n",
      "\n",
      "How many?                How much?              P (MW)            Q (MVAr)\n",
      "---------------------    -------------------  -------------  -----------------\n",
      "Buses              6     Total Gen Capacity       0.0       -1000000000.0 to 1000000000.0\n",
      "Generators         1     On-line Capacity         0.0       -1000000000.0 to 1000000000.0\n",
      "Committed Gens     1     Generation (actual)      1.9               6.0\n",
      "Loads              4     Load                     0.1               0.0\n",
      "  Fixed            4       Fixed                  0.1               0.0\n",
      "  Dispatchable     0       Dispatchable           0.0 of 0.0        0.0\n",
      "Shunts             0     Shunt (inj)              0.0               0.0\n",
      "Branches           5     Losses (I^2 * Z)         4.27              6.82\n",
      "Transformers       5     Branch Charging (inj)     -                0.0\n",
      "Inter-ties         0     Total Inter-tie Flow     0.0               0.0\n",
      "Areas              1\n",
      "\n",
      "                          Minimum                      Maximum\n",
      "                 -------------------------  --------------------------------\n",
      "Voltage Magnitude   0.001 p.u. @ bus 5          1.000 p.u. @ bus 0   \n",
      "Voltage Angle    -177.65 deg   @ bus 2        137.47 deg   @ bus 3   \n",
      "P Losses (I^2*R)             -                  1.88 MW    @ line 0-5\n",
      "Q Losses (I^2*X)             -                  5.96 MVAr  @ line 0-5\n",
      "\n",
      "================================================================================\n",
      "|     Bus Data                                                                 |\n",
      "================================================================================\n",
      " Bus      Voltage          Generation             Load        \n",
      "  #   Mag(pu) Ang(deg)   P (MW)   Q (MVAr)   P (MW)   Q (MVAr)\n",
      "----- ------- --------  --------  --------  --------  --------\n",
      "    0  1.000    0.000*     1.87      5.96       -         -   \n",
      "    1  0.225   35.239       -         -        0.03      0.01 \n",
      "    2  0.102 -177.646       -         -        0.03      0.01 \n",
      "    3  0.230  137.468       -         -        0.03      0.01 \n",
      "    4  0.019   -0.803       -         -        0.03      0.01 \n",
      "    5  0.001 -118.435       -         -         -         -   \n",
      "                        --------  --------  --------  --------\n",
      "               Total:      1.87      5.96      0.12      0.04\n",
      "\n",
      "================================================================================\n",
      "|     Branch Data                                                              |\n",
      "================================================================================\n",
      "Brnch   From   To    From Bus Injection   To Bus Injection     Loss (I^2 * Z)  \n",
      "  #     Bus    Bus    P (MW)   Q (MVAr)   P (MW)   Q (MVAr)   P (MW)   Q (MVAr)\n",
      "-----  -----  -----  --------  --------  --------  --------  --------  --------\n",
      "   0      5      4      0.00      0.00      0.00      0.00     0.005      0.00\n",
      "   1      4      3      0.03      0.05      0.72      0.22     0.755      0.27\n",
      "   2      3      2      0.39      0.37     -0.00     -0.24     0.381      0.14\n",
      "   3      2      1      0.43     -0.02      0.83      0.47     1.258      0.45\n",
      "   4      0      5      1.87      5.96      0.00     -0.01     1.875      5.96\n",
      "                                                             --------  --------\n",
      "                                                    Total:     4.274      6.82\n"
     ]
    },
    {
     "name": "stderr",
     "output_type": "stream",
     "text": [
      "/Users/jko/anaconda/lib/python2.7/site-packages/pypower/ext2int.py:152: VisibleDeprecationWarning: using a non-integer number instead of an integer will result in an error in the future\n",
      "  o[\"bus\"][\"e2i\"] = zeros(max(o[\"bus\"][\"i2e\"]) + 1)\n"
     ]
    }
   ],
   "source": [
    "import pypower.api as pypow\n",
    "results, success = pypow.runpf(ppc)\n",
    "# default Newton-Raphson did not converge..."
   ]
  },
  {
   "cell_type": "markdown",
   "metadata": {},
   "source": [
    "### Pay attention in obvious difference between pandapower and pypower ppc case: in pandapower loads are connected to buses 2,3,4,5, while in pypower ppc to 1,2,3,4"
   ]
  },
  {
   "cell_type": "markdown",
   "metadata": {},
   "source": [
    "## pypower Gauss-Seidel"
   ]
  },
  {
   "cell_type": "code",
   "execution_count": 9,
   "metadata": {
    "collapsed": false
   },
   "outputs": [
    {
     "name": "stdout",
     "output_type": "stream",
     "text": [
      "PYPOWER Version 5.0.0, 29-May-2015 -- AC Power Flow (Gauss-Seidel)\n",
      "\n",
      "\n",
      "Gauss-Seidel power flow converged in 286 iterations.\n",
      "\n",
      "Converged in 0.47 seconds\n",
      "================================================================================\n",
      "|     System Summary                                                           |\n",
      "================================================================================\n",
      "\n",
      "How many?                How much?              P (MW)            Q (MVAr)\n",
      "---------------------    -------------------  -------------  -----------------\n",
      "Buses              6     Total Gen Capacity       0.0       -1000000000.0 to 1000000000.0\n",
      "Generators         1     On-line Capacity         0.0       -1000000000.0 to 1000000000.0\n",
      "Committed Gens     1     Generation (actual)      0.1               0.0\n",
      "Loads              4     Load                     0.1               0.0\n",
      "  Fixed            4       Fixed                  0.1               0.0\n",
      "  Dispatchable     0       Dispatchable           0.0 of 0.0        0.0\n",
      "Shunts             0     Shunt (inj)              0.0               0.0\n",
      "Branches           5     Losses (I^2 * Z)         1.80              5.72\n",
      "Transformers       5     Branch Charging (inj)     -                0.0\n",
      "Inter-ties         0     Total Inter-tie Flow     0.0               0.0\n",
      "Areas              1\n",
      "\n",
      "                          Minimum                      Maximum\n",
      "                 -------------------------  --------------------------------\n",
      "Voltage Magnitude   0.963 p.u. @ bus 1          1.000 p.u. @ bus 0   \n",
      "Voltage Angle    -151.00 deg   @ bus 1          0.00 deg   @ bus 0   \n",
      "P Losses (I^2*R)             -                  1.80 MW    @ line 0-5\n",
      "Q Losses (I^2*X)             -                  5.72 MVAr  @ line 0-5\n",
      "\n",
      "================================================================================\n",
      "|     Bus Data                                                                 |\n",
      "================================================================================\n",
      " Bus      Voltage          Generation             Load        \n",
      "  #   Mag(pu) Ang(deg)   P (MW)   Q (MVAr)   P (MW)   Q (MVAr)\n",
      "----- ------- --------  --------  --------  --------  --------\n",
      "    0  1.000    0.000*     0.12      0.04       -         -   \n",
      "    1  0.963 -150.997       -         -        0.03      0.01 \n",
      "    2  0.966 -150.994       -         -        0.03      0.01 \n",
      "    3  0.971 -150.989       -         -        0.03      0.01 \n",
      "    4  0.978 -150.980       -         -        0.03      0.01 \n",
      "    5  0.988 -150.969       -         -         -         -   \n",
      "                        --------  --------  --------  --------\n",
      "               Total:      0.12      0.04      0.12      0.04\n",
      "\n",
      "================================================================================\n",
      "|     Branch Data                                                              |\n",
      "================================================================================\n",
      "Brnch   From   To    From Bus Injection   To Bus Injection     Loss (I^2 * Z)  \n",
      "  #     Bus    Bus    P (MW)   Q (MVAr)   P (MW)   Q (MVAr)   P (MW)   Q (MVAr)\n",
      "-----  -----  -----  --------  --------  --------  --------  --------  --------\n",
      "   0      5      4      0.12      0.04     -0.12     -0.04     0.001      0.00\n",
      "   1      4      3      0.09      0.03     -0.09     -0.03     0.001      0.00\n",
      "   2      3      2      0.06      0.02     -0.06     -0.02     0.000      0.00\n",
      "   3      2      1      0.03      0.01     -0.03     -0.01     0.000      0.00\n",
      "   4      0      5      0.12      0.04     -0.12     -0.04     1.798      5.72\n",
      "                                                             --------  --------\n",
      "                                                    Total:     1.800      5.72\n"
     ]
    }
   ],
   "source": [
    "# changing algorithm to Gauss-Seidel\n",
    "ppopt = pypow.ppoption(PF_ALG=4)\n",
    "results, success = pypow.runpf(ppc, ppopt=ppopt)"
   ]
  },
  {
   "cell_type": "markdown",
   "metadata": {},
   "source": [
    "## Validate from ppc"
   ]
  },
  {
   "cell_type": "code",
   "execution_count": 20,
   "metadata": {
    "collapsed": false
   },
   "outputs": [
    {
     "name": "stdout",
     "output_type": "stream",
     "text": [
      "None\n"
     ]
    }
   ],
   "source": [
    "# validation returns None obviously because default N-R Power Flow algorithm did not converge...\n",
    "print ppconv.validate_from_ppc(ppc, net)"
   ]
  },
  {
   "cell_type": "markdown",
   "metadata": {},
   "source": [
    "## Direct Distribution Load Flow (DDLF)"
   ]
  },
  {
   "cell_type": "code",
   "execution_count": 21,
   "metadata": {
    "collapsed": false
   },
   "outputs": [
    {
     "name": "stdout",
     "output_type": "stream",
     "text": [
      " Direct LF successfully converged in 4\n",
      "\n",
      " A direct power flow executed in 0.00149393081665 s \n",
      "\t preparation time = 0.000639915466309 s\n"
     ]
    }
   ],
   "source": [
    "# direct load flow\n",
    "from directDistPF import run_ddlf\n",
    "\n",
    "V_DDLF = run_ddlf(ppc, epsilon=1.e-5)"
   ]
  },
  {
   "cell_type": "markdown",
   "metadata": {},
   "source": [
    "## Results comparison"
   ]
  },
  {
   "cell_type": "code",
   "execution_count": 46,
   "metadata": {
    "collapsed": false
   },
   "outputs": [],
   "source": [
    "res_df = net.res_bus[['vm_pu','va_degree']].rename(columns={'vm_pu':'vm_pandap','va_degree':'va_pandap'})\n",
    "\n",
    "# adding pypower results\n",
    "from pypower.idx_bus import VM, VA\n",
    "res_df['vm_pypow'] = results['bus'][:, VM]\n",
    "res_df['va_pypow'] = results['bus'][:, VA]\n",
    "\n",
    "# adding directLF results\n",
    "res_df['vm_DDLF'] = np.abs(V_DDLF)\n",
    "res_df['va_DDLF'] = np.angle(V_DDLF,deg=True)\n",
    "# adding 150 phase shift to DDLF result\n",
    "res_df.loc[1:5,'va_DDLF'] -= 150"
   ]
  },
  {
   "cell_type": "markdown",
   "metadata": {},
   "source": [
    "### Pypower and Direct LF have the results, while pandapower has different"
   ]
  },
  {
   "cell_type": "code",
   "execution_count": 56,
   "metadata": {
    "collapsed": false
   },
   "outputs": [
    {
     "name": "stdout",
     "output_type": "stream",
     "text": [
      "   vm_pandap  vm_pypow   vm_DDLF\n",
      "0   1.000000  1.000000  1.000000\n",
      "1   0.987595  0.963208  0.963208\n",
      "2   0.977858  0.965657  0.965657\n",
      "3   0.970534  0.970550  0.970550\n",
      "4   0.965641  0.977874  0.977874\n",
      "5   0.963192  0.987610  0.987610 \n",
      "\n",
      "    va_pandap    va_pypow     va_DDLF\n",
      "0    0.000000    0.000000    0.000000\n",
      "1 -150.971565 -150.997211 -150.997210\n",
      "2 -150.982699 -150.994322 -150.994321\n",
      "3 -150.991195 -150.988587 -150.988586\n",
      "4 -150.996930 -150.980091 -150.980090\n",
      "5 -150.999819 -150.968958 -150.968957\n"
     ]
    }
   ],
   "source": [
    "print res_df[['vm_pandap','vm_pypow','vm_DDLF']], '\\n'\n",
    "print res_df[['va_pandap','va_pypow','va_DDLF']]"
   ]
  }
 ],
 "metadata": {
  "kernelspec": {
   "display_name": "Python 2",
   "language": "python",
   "name": "python2"
  },
  "language_info": {
   "codemirror_mode": {
    "name": "ipython",
    "version": 2.0
   },
   "file_extension": ".py",
   "mimetype": "text/x-python",
   "name": "python",
   "nbconvert_exporter": "python",
   "pygments_lexer": "ipython2",
   "version": "2.7.13"
  }
 },
 "nbformat": 4,
 "nbformat_minor": 0
}