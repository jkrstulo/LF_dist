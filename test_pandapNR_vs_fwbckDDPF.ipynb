{
 "cells": [
  {
   "cell_type": "markdown",
   "metadata": {},
   "source": [
    "# Test PandaPower N-R Power Flow vs. Forward-Backward sweep Direct Distribution Load Flow"
   ]
  },
  {
   "cell_type": "code",
   "execution_count": 1,
   "metadata": {
    "collapsed": true
   },
   "outputs": [],
   "source": [
    "%load_ext autoreload\n",
    "%autoreload 2 # for autoreloading runpp_dd\n",
    "from run_ddpf import runpp_dd #fwd/bck sweep PF called Dirrect Distribution Power Flow (DDPF)\n",
    "\n",
    "import pandapower as pp\n",
    "import pandapower.networks as ppnets"
   ]
  },
  {
   "cell_type": "code",
   "execution_count": 2,
   "metadata": {
    "collapsed": true
   },
   "outputs": [],
   "source": [
    "# testing function: state vector result verification + computational performances\n",
    "def test_pfs(net):\n",
    "    # pandapower PF with Numba\n",
    "    pp.runpp(net, numba=True)\n",
    "    time_PPnumba = net[\"_ppc\"]['et']\n",
    "\n",
    "    # pandapower PF without Numba\n",
    "    pp.runpp(net, numba=False)\n",
    "    res_bus_pppf = net.res_bus\n",
    "    time_PP = net[\"_ppc\"]['et'] #execution time\n",
    "    \n",
    "    # fwd/bck sweep\n",
    "    runpp_dd(net, numba=False)\n",
    "    res_bus_ddpf = net.res_bus\n",
    "    time_DDPF = net[\"_ppc\"]['et'] #execution time\n",
    "    \n",
    "    # result verification: state vectors \n",
    "    print ('\\npppf vs. fbsw state vector result verification')\n",
    "    print ('\\t max mag err  =\\t{0} p.u.'\n",
    "           '\\n\\t max ang err =\\t{1} degree'.format((res_bus_pppf.vm_pu-res_bus_ddpf.vm_pu).abs().max(),\n",
    "                                           (res_bus_pppf.va_degree-res_bus_ddpf.va_degree).abs().max()))\n",
    "    \n",
    "    print ('\\n Computation performances:')\n",
    "    print ('\\t PandapowerNumba executed in\\t {0} s'.format(time_PPnumba))\n",
    "    print ('\\t Pandapower executed in\\t\\t {0} s'.format(time_PP))\n",
    "    print ('\\t Direct Dist LF executed in\\t {0} s'.format(time_DDPF))"
   ]
  },
  {
   "cell_type": "markdown",
   "metadata": {},
   "source": [
    "## test net: *panda_four_load_branch*"
   ]
  },
  {
   "cell_type": "code",
   "execution_count": 11,
   "metadata": {
    "collapsed": false
   },
   "outputs": [
    {
     "name": "stdout",
     "output_type": "stream",
     "text": [
      "\n",
      "pppf vs. fbsw state vector result verification\n",
      "\t max mag err  =\t2.86409718164e-09 p.u.\n",
      "\t max ang err =\t3.53061376801e-08 degree\n",
      "\n",
      " Computation performances:\n",
      "\t PandapowerNumba executed in\t 0.00350594520569 s\n",
      "\t Pandapower executed in\t\t 0.0200140476227 s\n",
      "\t Direct Dist LF executed in\t 0.00637912750244 s\n"
     ]
    }
   ],
   "source": [
    "#loading net\n",
    "net = ppnets.panda_four_load_branch()\n",
    "net.trafo.shift_degree = 0 #setting transf. shift angle to 0 (pandapower does not consider it yet)\n",
    "\n",
    "test_pfs(net)"
   ]
  },
  {
   "cell_type": "markdown",
   "metadata": {},
   "source": [
    "## test net: *four_loads_with_branches_out*"
   ]
  },
  {
   "cell_type": "code",
   "execution_count": 13,
   "metadata": {
    "collapsed": false
   },
   "outputs": [
    {
     "name": "stdout",
     "output_type": "stream",
     "text": [
      "\n",
      "pppf vs. fbsw state vector result verification\n",
      "\t max mag err  =\t4.19096723991e-09 p.u.\n",
      "\t max ang err =\t5.1667982115e-08 degree\n",
      "\n",
      " Computation performances:\n",
      "\t PandapowerNumba executed in\t 0.00336384773254 s\n",
      "\t Pandapower executed in\t\t 0.0183520317078 s\n",
      "\t Direct Dist LF executed in\t 0.00697612762451 s\n"
     ]
    }
   ],
   "source": [
    "#loading net\n",
    "net = ppnets.four_loads_with_branches_out()\n",
    "net.trafo.shift_degree = 0 #setting transf. shift angle to 0 (pandapower does not consider it yet)\n",
    "\n",
    "test_pfs(net)"
   ]
  },
  {
   "cell_type": "markdown",
   "metadata": {},
   "source": [
    "## test net: *simple_mv_open_ring_net*"
   ]
  },
  {
   "cell_type": "code",
   "execution_count": 5,
   "metadata": {
    "collapsed": false
   },
   "outputs": [
    {
     "name": "stdout",
     "output_type": "stream",
     "text": [
      "\n",
      "pppf vs. fbsw state vector result verification\n",
      "\t max mag err  =\t2.29549823594e-10 p.u.\n",
      "\t max ang err =\t2.67883026872e-09 degree\n",
      "\n",
      " Computation performances:\n",
      "\t PandapowerNumba executed in\t 0.00304102897644 s\n",
      "\t Pandapower executed in\t\t 0.0206580162048 s\n",
      "\t Direct Dist LF executed in\t 0.00632309913635 s\n"
     ]
    }
   ],
   "source": [
    "#loading net\n",
    "net = ppnets.simple_mv_open_ring_net()\n",
    "net.trafo.shift_degree = 0 #setting transf. shift angle to 0 (pandapower does not consider it yet)\n",
    "\n",
    "test_pfs(net)"
   ]
  },
  {
   "cell_type": "markdown",
   "metadata": {},
   "source": [
    "## test net: *cigre_network_mv without DERs*"
   ]
  },
  {
   "cell_type": "code",
   "execution_count": 6,
   "metadata": {
    "collapsed": false
   },
   "outputs": [
    {
     "name": "stdout",
     "output_type": "stream",
     "text": [
      "\n",
      "pppf vs. fbsw state vector result verification\n",
      "\t max mag err  =\t2.85175216774e-11 p.u.\n",
      "\t max ang err =\t2.09485229163e-09 degree\n",
      "\n",
      " Computation performances:\n",
      "\t PandapowerNumba executed in\t 0.00334405899048 s\n",
      "\t Pandapower executed in\t\t 0.0244090557098 s\n",
      "\t Direct Dist LF executed in\t 0.00757312774658 s\n"
     ]
    }
   ],
   "source": [
    "#loading net\n",
    "net = ppnets.create_cigre_network_mv(with_der=False)\n",
    "net.trafo.shift_degree = 0 #setting transf. shift angle to 0 (pandapower does not consider it yet)\n",
    "\n",
    "test_pfs(net)"
   ]
  },
  {
   "cell_type": "markdown",
   "metadata": {},
   "source": [
    "## test net: *cigre_network_lv*"
   ]
  },
  {
   "cell_type": "code",
   "execution_count": 7,
   "metadata": {
    "collapsed": false
   },
   "outputs": [
    {
     "name": "stdout",
     "output_type": "stream",
     "text": [
      "\n",
      "pppf vs. fbsw state vector result verification\n",
      "\t max mag err  =\t9.56925538809e-10 p.u.\n",
      "\t max ang err =\t7.28610660694e-08 degree\n",
      "\n",
      " Computation performances:\n",
      "\t PandapowerNumba executed in\t 0.00493001937866 s\n",
      "\t Pandapower executed in\t\t 0.0184998512268 s\n",
      "\t Direct Dist LF executed in\t 0.0081160068512 s\n"
     ]
    }
   ],
   "source": [
    "#loading net\n",
    "net = ppnets.create_cigre_network_lv()\n",
    "net.trafo.shift_degree = 0 #setting transf. shift angle to 0 (pandapower does not consider it yet)\n",
    "\n",
    "test_pfs(net)"
   ]
  },
  {
   "cell_type": "markdown",
   "metadata": {},
   "source": [
    "## test net: *example_simple*"
   ]
  },
  {
   "cell_type": "code",
   "execution_count": 10,
   "metadata": {
    "collapsed": false
   },
   "outputs": [
    {
     "name": "stdout",
     "output_type": "stream",
     "text": [
      "\n",
      "pppf vs. fbsw state vector result verification\n",
      "\t max mag err  =\t1.62378999136e-11 p.u.\n",
      "\t max ang err =\t1.37911548848e-09 degree\n",
      "\n",
      " Computation performances:\n",
      "\t PandapowerNumba executed in\t 0.00406312942505 s\n",
      "\t Pandapower executed in\t\t 0.0191490650177 s\n",
      "\t Direct Dist LF executed in\t 0.0119519233704 s\n"
     ]
    }
   ],
   "source": [
    "#loading net\n",
    "net = ppnets.example_simple()\n",
    "net.trafo.shift_degree = 0 #setting transf. shift angle to 0 (pandapower does not consider it yet)\n",
    "test_pfs(net)"
   ]
  }
 ],
 "metadata": {
  "kernelspec": {
   "display_name": "Python 2",
   "language": "python",
   "name": "python2"
  },
  "language_info": {
   "codemirror_mode": {
    "name": "ipython",
    "version": 2.0
   },
   "file_extension": ".py",
   "mimetype": "text/x-python",
   "name": "python",
   "nbconvert_exporter": "python",
   "pygments_lexer": "ipython2",
   "version": "2.7.13"
  }
 },
 "nbformat": 4,
 "nbformat_minor": 0
}